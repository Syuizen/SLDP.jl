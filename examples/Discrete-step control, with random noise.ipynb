{
 "cells": [
  {
   "cell_type": "markdown",
   "metadata": {},
   "source": [
    "![CC-BY-SA](https://mirrors.creativecommons.org/presskit/buttons/88x31/svg/by-sa.svg)\n",
    "This notebook was created by [Bernardo Freitas Paulo da Costa](http://www.im.ufrj.br/bernardofpc),\n",
    "and is licensed under Creative Commons BY-SA"
   ]
  },
  {
   "cell_type": "code",
   "execution_count": null,
   "metadata": {},
   "outputs": [],
   "source": [
    "import SDDP, JuMP, ASDDiP, PyPlot"
   ]
  },
  {
   "cell_type": "code",
   "execution_count": null,
   "metadata": {},
   "outputs": [],
   "source": [
    "import LaTeXStrings: @L_str"
   ]
  },
  {
   "cell_type": "markdown",
   "metadata": {},
   "source": [
    "# A toy model for ALD-SDDiP"
   ]
  },
  {
   "cell_type": "markdown",
   "metadata": {},
   "source": [
    "## Description\n",
    "\n",
    "$$\\begin{array}{rl}\n",
    "      \\min  & \\mathbb{E}\\left[\\sum\\limits_t \\beta^{t-1}|x_t|\\right] \\\\\n",
    "\\text{s.t.} & \\quad x_t = x_{t-1} + c_t + \\xi_t \\\\\n",
    "            & \\quad c_t \\in \\{\\pm 1\\}\n",
    "\\end{array} $$"
   ]
  },
  {
   "cell_type": "markdown",
   "metadata": {},
   "source": [
    "## The noise $\\xi_t$\n",
    "\n",
    "Is identically distributed (\"periodic system\"), and **symmetric** (important for the analytic solution below)."
   ]
  },
  {
   "cell_type": "code",
   "execution_count": null,
   "metadata": {},
   "outputs": [],
   "source": [
    "srand(11111)\n",
    "A_noise   = 0.4\n",
    "num_noise = 5\n",
    "noise = randn(num_noise)\n",
    "noise = A_noise * [noise; -noise];"
   ]
  },
  {
   "cell_type": "markdown",
   "metadata": {},
   "source": [
    "# Analytic solution using symmetry"
   ]
  },
  {
   "cell_type": "code",
   "execution_count": null,
   "metadata": {},
   "outputs": [],
   "source": [
    "cost(x) = abs.(x)\n",
    "next_step(x) = (x .>=0 ).*(x-1) + (x .< 0).*(x+1)"
   ]
  },
  {
   "cell_type": "code",
   "execution_count": null,
   "metadata": {},
   "outputs": [],
   "source": [
    "function Q2_bar(x2, nmax, noise, beta, t)\n",
    "    nsamples = length(noise)\n",
    "    return sum([solve_bin_sym(x2+xi, nmax, noise, beta, t+1) for xi in noise])/nsamples\n",
    "end\n",
    "    \n",
    "function solve_bin_sym(x, nmax, noise, beta=0.5, t=1)\n",
    "    if t > nmax\n",
    "        return 0\n",
    "    end\n",
    "    \n",
    "    x2 = next_step(x)\n",
    "    return cost(x2) + beta*Q2_bar(x2, nmax, noise, beta, t)\n",
    "end"
   ]
  },
  {
   "cell_type": "markdown",
   "metadata": {},
   "source": [
    "## Very detailed (small steps) calculations"
   ]
  },
  {
   "cell_type": "code",
   "execution_count": null,
   "metadata": {},
   "outputs": [],
   "source": [
    "xs = linspace(-3,3,1000)\n",
    "Qt1000 = Vector{Float64}[]\n",
    "for t = 1:7\n",
    "    print(t, \" -> \")\n",
    "    @time v = Q2_bar(xs, 8, noise, discount, t)\n",
    "    push!(Qt1000, v)\n",
    "end"
   ]
  },
  {
   "cell_type": "code",
   "execution_count": null,
   "metadata": {},
   "outputs": [],
   "source": [
    "beta = 0.5\n",
    "fig, (ax1,ax2) = PyPlot.subplots(ncols=2, figsize=(10,4))\n",
    "for t = 1:8\n",
    "    ax1[:plot](xs, Qt1000[9-t]*beta^(t-1), label=\"$t\")\n",
    "    xypos, xyneg = unwrap(xs, Qt1000[9-t], t-1, beta)\n",
    "    ax2[:plot](xypos..., color=\"C$(t-1)\", label=\"$t\")\n",
    "    ax2[:plot](xyneg..., color=\"C$(t-1)\")\n",
    "end\n",
    "ax1[:set_title](\"Cost-to-go\")\n",
    "ax2[:set_title](\"Future cost (Average)\")\n",
    "ax2[:legend](bbox_to_anchor=(1,0.5), loc=\"center left\");"
   ]
  },
  {
   "cell_type": "markdown",
   "metadata": {},
   "source": [
    "## Calculations for a 61-point discretization"
   ]
  },
  {
   "cell_type": "code",
   "execution_count": null,
   "metadata": {},
   "outputs": [],
   "source": [
    "ts = -3:0.1:3\n",
    "discount = 0.9\n",
    "Qt3 = Vector{Float64}[]\n",
    "for t = 1:7\n",
    "    print(t, \" -> \")\n",
    "    @time v = Q2_bar(ts, 8, noise, discount, t)\n",
    "    push!(Qt3, v)\n",
    "end"
   ]
  },
  {
   "cell_type": "code",
   "execution_count": null,
   "metadata": {},
   "outputs": [],
   "source": [
    "for t = 1:7\n",
    "    PyPlot.plot(ts, Qt3[t], label=\"$t\")\n",
    "end\n",
    "PyPlot.title(L\"Future cost function $Q_t$\")\n",
    "PyPlot.legend(title=L\"stage $t$\", bbox_to_anchor=(1,0.5), loc=\"center left\");"
   ]
  },
  {
   "cell_type": "markdown",
   "metadata": {},
   "source": [
    "# Using only Strenghtened benders cuts:\n",
    "\n",
    "This corresponds to $\\rho = 0$, for all stages and iterations."
   ]
  },
  {
   "cell_type": "code",
   "execution_count": null,
   "metadata": {},
   "outputs": [],
   "source": [
    "ramp_mode = :None"
   ]
  },
  {
   "cell_type": "code",
   "execution_count": null,
   "metadata": {},
   "outputs": [],
   "source": [
    "niters = 100\n",
    "include(\"control.jl\")"
   ]
  },
  {
   "cell_type": "code",
   "execution_count": null,
   "metadata": {},
   "outputs": [],
   "source": [
    "ts = -3:0.02:3\n",
    "for t = 1:7\n",
    "    PyPlot.plot(ts, ASDDiP.Qfrak(m,t,1,ts), label=\"$t\")\n",
    "end\n",
    "PyPlot.legend(title=L\"Stage $t$\")\n",
    "PyPlot.title(L\"Future cost functions $\\mathfrak{Q}_t$\")\n",
    "PyPlot.grid();"
   ]
  },
  {
   "cell_type": "code",
   "execution_count": null,
   "metadata": {},
   "outputs": [],
   "source": [
    "ts = -3:0.1:3\n",
    "for t = 1:7\n",
    "    fig, (ax1,ax2) = PyPlot.subplots(ncols=2, figsize=(10,4))\n",
    "    PyPlot.suptitle(\"Stage $t\")\n",
    "    qt = ASDDiP.Qtilde(m,t,1,ts)\n",
    "    qf = ASDDiP.Qfrak(m,t,1,ts)\n",
    "    ax1[:plot](ts, Qt3[t], label=L\"$Q$: exact\")\n",
    "    ax1[:plot](ts, qt,     label=L\"$\\tilde{Q}$: mean of next stage approximations\")\n",
    "    ax1[:plot](ts, qf,     label=L\"$\\mathfrak{Q}$: current stage approximation\")\n",
    "    ax1[:legend]()\n",
    "    ax1[:set_title](\"Future cost functions\")\n",
    "    ax1[:grid]()\n",
    "    ax2[:plot](ts, qt     - qf, label=L\"$\\tilde{Q} - \\mathfrak{Q}$\")\n",
    "    ax2[:plot](ts, Qt3[t] - qf, label=L\"$Q - \\mathfrak{Q}$\")\n",
    "    ax2[:plot](ts, Qt3[t] - qt, label=L\"$Q - \\tilde{Q}$\")\n",
    "    ax2[:set_title](\"Differences\")\n",
    "    ax2[:legend]()\n",
    "    ax2[:grid]()\n",
    "    PyPlot.savefig(\"/tmp/1d_sb_stage$t.pdf\")\n",
    "end"
   ]
  },
  {
   "cell_type": "markdown",
   "metadata": {},
   "source": [
    "# Using ALD\n",
    "\n",
    "We estimate $\\displaystyle Lip_t = \\beta^{t-1} + \\beta^t + \\ldots + \\beta^{8-1} = \\beta^{t-1}(1 + \\ldots + \\beta^{8-t}) = \\frac{1 - \\beta^{8+1-t}}{1 - \\beta}\\beta^{t-1}$."
   ]
  },
  {
   "cell_type": "markdown",
   "metadata": {},
   "source": [
    "# First strategy: homothetic\n",
    "\n",
    "At iteration $n$ and stage $t$, we set\n",
    "$$\\rho_t = \\min\\left(1, \\max\\left(0, \\frac{n-15}{15}\\right)\\right) \\cdot Lip_t. $$\n",
    "\n",
    "That is:\n",
    "\n",
    "- in the first 15 stages, $\\rho_t = 0$;\n",
    "- then increase $\\rho_t$ until it reaches $Lip_t$ in 15 stages;\n",
    "- and keep at $Lip_t$ until the end."
   ]
  },
  {
   "cell_type": "code",
   "execution_count": null,
   "metadata": {},
   "outputs": [],
   "source": [
    "ramp_mode = :simple"
   ]
  },
  {
   "cell_type": "code",
   "execution_count": null,
   "metadata": {},
   "outputs": [],
   "source": [
    "include(\"control.jl\")"
   ]
  },
  {
   "cell_type": "markdown",
   "metadata": {},
   "source": [
    "### Graph of FCF"
   ]
  },
  {
   "cell_type": "code",
   "execution_count": null,
   "metadata": {},
   "outputs": [],
   "source": [
    "ts = -3:0.02:3\n",
    "for t = 1:7\n",
    "    PyPlot.plot(ts, ASDDiP.Qfrak(m,t,1,ts), label=\"$t\")\n",
    "end\n",
    "PyPlot.legend(title=\"Stage\")\n",
    "PyPlot.title(\"Future cost functions\")\n",
    "PyPlot.grid();"
   ]
  },
  {
   "cell_type": "code",
   "execution_count": null,
   "metadata": {},
   "outputs": [],
   "source": [
    "ts = -3:0.1:3\n",
    "for t = 1:7\n",
    "    qe = Qt3[t]*discount^t\n",
    "    qt = ASDDiP.Qtilde(m,t,1,ts)\n",
    "    qf = ASDDiP.Qfrak(m,t,1,ts)\n",
    "\n",
    "    fig, (ax1,ax2) = PyPlot.subplots(ncols=2, figsize=(12,4))\n",
    "    PyPlot.suptitle(\"Stage $t\")\n",
    "\n",
    "    ax1[:plot](ts, qe, label=L\"$Q$: exact\")\n",
    "    ax1[:plot](ts, qt, label=L\"$\\tilde{Q}$: mean of next stage approximations\")\n",
    "    ax1[:plot](ts, qf, label=L\"$\\mathfrak{Q}$: current stage approximation\")\n",
    "    ax1[:legend]()\n",
    "    ax1[:set_title](\"Future cost functions\")\n",
    "    ax1[:grid]()\n",
    "\n",
    "    ax2[:plot](ts, qt - qf, label=L\"$\\tilde{Q} - \\mathfrak{Q}$\")\n",
    "    ax2[:plot](ts, qe - qf, label=L\"$Q - \\mathfrak{Q}$\")\n",
    "    ax2[:plot](ts, qe - qt, label=L\"$Q - \\tilde{Q}$\")\n",
    "    ax2[:set_title](\"Differences\")\n",
    "    ax2[:legend]()\n",
    "    ax2[:grid]()\n",
    "\n",
    "    PyPlot.savefig(\"/tmp/1d_sb_stage$t.pdf\")\n",
    "end"
   ]
  },
  {
   "cell_type": "markdown",
   "metadata": {},
   "source": [
    "# Second strategy: parallel\n",
    "\n",
    "At iteration $n$ and stage $t$, we set\n",
    "$$\\rho_t = \\min\\left(Lip_t, \\max\\left(0, \\frac{n-15}{15}\\right)\\right). $$\n",
    "\n",
    "That is:\n",
    "\n",
    "- in the first 15 stages, $\\rho_t = 0$;\n",
    "- then increase with equal steps at all stages, stopping at $Lip_t$; (so that different stages \"saturate\" at different times)\n",
    "- and keep at $Lip_t$ until the end."
   ]
  },
  {
   "cell_type": "code",
   "execution_count": null,
   "metadata": {},
   "outputs": [],
   "source": [
    "ramp_mode = :parallel"
   ]
  },
  {
   "cell_type": "code",
   "execution_count": null,
   "metadata": {},
   "outputs": [],
   "source": [
    "include(\"control.jl\")"
   ]
  },
  {
   "cell_type": "markdown",
   "metadata": {},
   "source": [
    "### Graph of FCF"
   ]
  },
  {
   "cell_type": "code",
   "execution_count": null,
   "metadata": {},
   "outputs": [],
   "source": [
    "ts = -3:0.02:3\n",
    "for t = 1:7\n",
    "    PyPlot.plot(ts, ASDDiP.Qfrak(m,t,1,ts), label=\"$t\")\n",
    "end\n",
    "PyPlot.legend(title=\"Stage\")\n",
    "PyPlot.title(\"Future cost functions\")\n",
    "PyPlot.grid();"
   ]
  },
  {
   "cell_type": "code",
   "execution_count": null,
   "metadata": {},
   "outputs": [],
   "source": [
    "ts = -3:0.1:3\n",
    "for t = 1:7\n",
    "    fig, (ax1,ax2) = PyPlot.subplots(ncols=2, figsize=(10,4))\n",
    "    PyPlot.suptitle(\"Stage $t\")\n",
    "    qt = ASDDiP.Qtilde(m,t,1,ts)\n",
    "    qf = ASDDiP.Qfrak(m,t,1,ts)\n",
    "    ax1[:plot](ts, qt, label=L\"$\\tilde{Q}$: mean of next stage\")\n",
    "    ax1[:plot](ts, qf, label=L\"$\\mathfrak{Q}$: Lower bound with ALD cuts\")\n",
    "    ax1[:legend]()\n",
    "    ax1[:set_title](\"Future cost functions\")\n",
    "    ax1[:grid]()\n",
    "    ax2[:plot](ts, qt - qf)\n",
    "    ax2[:set_title](L\"Difference $\\tilde{Q} - \\mathfrak{Q}$\")\n",
    "    ax2[:grid]()\n",
    "end"
   ]
  },
  {
   "cell_type": "markdown",
   "metadata": {},
   "source": [
    "# Third strategy: double of parallel\n",
    "\n",
    "At iteration $n$ and stage $t$, we set\n",
    "$$\\rho_t = \\min\\left(2 Lip_t, \\max\\left(0, \\frac{n-15}{15}\\right)\\right). $$\n",
    "\n",
    "That is:\n",
    "\n",
    "- in the first 15 stages, $\\rho_t = 0$;\n",
    "- then increase with equal steps at all stages, stopping at $2 Lip_t$; (so that different stages \"saturate\" at different times)\n",
    "- and keep at $2 Lip_t$ until the end."
   ]
  },
  {
   "cell_type": "code",
   "execution_count": null,
   "metadata": {},
   "outputs": [],
   "source": [
    "ramp_mode = :parallel2"
   ]
  },
  {
   "cell_type": "code",
   "execution_count": null,
   "metadata": {},
   "outputs": [],
   "source": [
    "include(\"control.jl\")"
   ]
  },
  {
   "cell_type": "markdown",
   "metadata": {},
   "source": [
    "### Graph of FCF"
   ]
  },
  {
   "cell_type": "code",
   "execution_count": null,
   "metadata": {},
   "outputs": [],
   "source": [
    "ts = -3:0.02:3\n",
    "for t = 1:7\n",
    "    PyPlot.plot(ts, ASDDiP.Qfrak(m,t,1,ts), label=\"$t\")\n",
    "end\n",
    "PyPlot.legend(title=\"Stage\")\n",
    "PyPlot.title(\"Future cost functions\")\n",
    "PyPlot.grid();\n",
    "#PyPlot.show()"
   ]
  },
  {
   "cell_type": "code",
   "execution_count": null,
   "metadata": {},
   "outputs": [],
   "source": [
    "ts = -3:0.1:3\n",
    "for t = 1:7\n",
    "    fig, (ax1,ax2) = PyPlot.subplots(ncols=2, figsize=(10,4))\n",
    "    PyPlot.suptitle(\"Stage $t\")\n",
    "    qt = ASDDiP.Qtilde(m,t,1,ts)\n",
    "    qf = ASDDiP.Qfrak(m,t,1,ts)\n",
    "    ax1[:plot](ts, qt, label=L\"$\\tilde{Q}$: mean of next stage\")\n",
    "    ax1[:plot](ts, qf, label=L\"$\\mathfrak{Q}$: Lower bound with ALD cuts\")\n",
    "    ax1[:legend]()\n",
    "    ax1[:set_title](\"Future cost functions\")\n",
    "    ax1[:grid]()\n",
    "    ax2[:plot](ts, qt - qf)\n",
    "    ax2[:set_title](L\"Difference $\\tilde{Q} - \\mathfrak{Q}$\")\n",
    "    ax2[:grid]()\n",
    "end"
   ]
  }
 ],
 "metadata": {
  "kernelspec": {
   "display_name": "Julia 0.6.4",
   "language": "julia",
   "name": "julia-0.6"
  },
  "language_info": {
   "file_extension": ".jl",
   "mimetype": "application/julia",
   "name": "julia"
  }
 },
 "nbformat": 4,
 "nbformat_minor": 2
}
