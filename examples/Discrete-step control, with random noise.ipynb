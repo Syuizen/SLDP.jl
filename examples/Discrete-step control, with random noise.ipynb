{
 "cells": [
  {
   "cell_type": "markdown",
   "metadata": {},
   "source": [
    "![CC-BY-SA](https://mirrors.creativecommons.org/presskit/buttons/88x31/svg/by-sa.svg)\n",
    "This notebook was created by [Bernardo Freitas Paulo da Costa](http://www.im.ufrj.br/bernardofpc),\n",
    "and is licensed under Creative Commons BY-SA"
   ]
  },
  {
   "cell_type": "markdown",
   "metadata": {},
   "source": [
    "# Libs"
   ]
  },
  {
   "cell_type": "code",
   "execution_count": null,
   "metadata": {},
   "outputs": [],
   "source": [
    "import SDDP, JuMP, ASDDiP, PyPlot"
   ]
  },
  {
   "cell_type": "code",
   "execution_count": null,
   "metadata": {},
   "outputs": [],
   "source": [
    "import LaTeXStrings: @L_str"
   ]
  },
  {
   "cell_type": "markdown",
   "metadata": {},
   "source": [
    "## Local utils"
   ]
  },
  {
   "cell_type": "code",
   "execution_count": null,
   "metadata": {},
   "outputs": [],
   "source": [
    "include(\"plt_control.jl\")"
   ]
  },
  {
   "cell_type": "markdown",
   "metadata": {},
   "source": [
    "# A toy model for ALD-SDDiP"
   ]
  },
  {
   "cell_type": "markdown",
   "metadata": {},
   "source": [
    "## Description\n",
    "\n",
    "$$\\begin{array}{rl}\n",
    "      \\min  & \\mathbb{E}\\left[\\sum\\limits_t \\beta^{t-1}|x_t|\\right] \\\\\n",
    "\\text{s.t.} & \\quad x_t = x_{t-1} + c_t + \\xi_t \\\\\n",
    "            & \\quad c_t \\in \\{\\pm 1\\}\n",
    "\\end{array} $$"
   ]
  },
  {
   "cell_type": "markdown",
   "metadata": {},
   "source": [
    "## Future cost functions\n",
    "\n",
    "The corresponding dynamic programming / recursive equations are:\n",
    "\n",
    "$$ Q_t(x_{t-1},\\xi_t) =\n",
    "  \\begin{array}[t]{rl}\n",
    "  \\min\\limits_{x_t} & |x_t| + \\beta \\cdot \\mathbb{E}\\left[ Q_{t+1}(x_t,\\xi_{t+1}) \\right] \\\\\n",
    "  \\text{s.t.}       & x_t = x_{t-1} + c_t + \\xi_t \\\\\n",
    "                    & c_t \\in \\{\\pm1\\}\n",
    "  \\end{array}\n",
    "$$\n",
    "\n",
    "The averages will be denoted (as usual) by $\\overline{Q}_t(x_{t-1}) = \\mathbb{E}\\big[ Q_t(x_{t-1},\\xi_t) \\big]$.\n",
    "\n",
    "### Cuts and lower approximations\n",
    "\n",
    "Any lower bound for $\\overline{Q}_{t+1}$ is a _cut_.\n",
    "The maximum of $k$ such cuts is denoted $\\mathfrak{Q}_{t+1}^k$, and is constructed incrementally during the SDDP algorithm.\n",
    "The dynamic programming where we replace $\\overline{Q}_{t+t}$ with $\\mathfrak{Q}_{t+1}$ yields the backwards functions:\n",
    "$$ \\tilde{Q}_t^k(x_{t-1},\\xi_t) =\n",
    "  \\begin{array}[t]{rl}\n",
    "  \\min\\limits_{x_t} & |x_t| + \\beta \\cdot \\mathfrak{Q}_{t+1}^k(x_t) \\\\\n",
    "  \\text{s.t.}       & x_t = x_{t-1} + c_t + \\xi_t \\\\\n",
    "                    & c_t \\in \\{\\pm1\\}\n",
    "  \\end{array}\n",
    "$$\n"
   ]
  },
  {
   "cell_type": "markdown",
   "metadata": {},
   "source": [
    "## Data \n",
    "\n",
    "### The discount factor $\\beta$\n",
    "\n",
    "We take a relatively \"small\" decay, $\\beta = 0.9$."
   ]
  },
  {
   "cell_type": "code",
   "execution_count": null,
   "metadata": {},
   "outputs": [],
   "source": [
    "discount = 0.9"
   ]
  },
  {
   "cell_type": "markdown",
   "metadata": {},
   "source": [
    "### The noise $\\xi_t$\n",
    "\n",
    "Is identically distributed (\"periodic system\"), and **symmetric** (important for the analytic solution above)."
   ]
  },
  {
   "cell_type": "code",
   "execution_count": null,
   "metadata": {},
   "outputs": [],
   "source": [
    "srand(11111)\n",
    "A_noise   = 0.4\n",
    "num_noise = 5\n",
    "noise = randn(num_noise)\n",
    "noise = A_noise * [noise; -noise];"
   ]
  },
  {
   "cell_type": "markdown",
   "metadata": {},
   "source": [
    "## SDDP.jl model"
   ]
  },
  {
   "cell_type": "code",
   "execution_count": null,
   "metadata": {},
   "outputs": [],
   "source": [
    "include(\"control.jl\")"
   ]
  },
  {
   "cell_type": "markdown",
   "metadata": {},
   "source": [
    "## Calculations for a 61-point discretization"
   ]
  },
  {
   "cell_type": "code",
   "execution_count": null,
   "metadata": {},
   "outputs": [],
   "source": [
    "ts = -3:0.1:3"
   ]
  },
  {
   "cell_type": "code",
   "execution_count": null,
   "metadata": {},
   "outputs": [],
   "source": [
    "Qt3 = Vector{Float64}[]\n",
    "for t = 1:7\n",
    "    v = [Q2_bar(ti, 8, noise, discount, t) for ti in ts]\n",
    "    push!(Qt3, v)\n",
    "end"
   ]
  },
  {
   "cell_type": "code",
   "execution_count": null,
   "metadata": {},
   "outputs": [],
   "source": [
    "fig, (ax1,ax2) = PyPlot.subplots(ncols=2, figsize=(10,4))\n",
    "for t = 1:7\n",
    "    ax1[:plot](ts, Qt3[t], label=\"$t\")\n",
    "    ax2[:plot](ts, Qt3[t]*discount^t, label=\"$t\")\n",
    "end\n",
    "ax1[:set_title](\"Future cost (value at current time)\")\n",
    "ax2[:set_title](\"Future cost (in 1st stage values)\")\n",
    "ax2[:legend](title=L\"Stage $t$\", bbox_to_anchor=(1,0.5), loc=\"center left\");"
   ]
  },
  {
   "cell_type": "markdown",
   "metadata": {},
   "source": [
    "The future cost \"at current time\" can also be interpreted as the future cost at the first stage considering a time horizon of $9-t$ stages.\n",
    "So, for example, the line corresponding to \"stage 3\" is also the future cost function at the first stage of a 6-stage problem.\n",
    "\n",
    "The limit of these curves can be taken as one approximation for the \"infinite horizon problem\"."
   ]
  },
  {
   "cell_type": "markdown",
   "metadata": {},
   "source": [
    "# Cost-to-go and Average cost-to-go"
   ]
  },
  {
   "cell_type": "code",
   "execution_count": null,
   "metadata": {},
   "outputs": [],
   "source": [
    "fig, (ax1,ax2) = PyPlot.subplots(ncols=2, figsize=(10,4))\n",
    "for t = 1:7\n",
    "    ctg = [solve_bin_sym(ti, 8, noise, discount, t) for ti in ts]\n",
    "    ax1[:plot](ts, ctg*discount^(t-1), label=\"$t\")\n",
    "    ax2[:plot](ts, Qt3[t]*discount^t, label=\"$t\")\n",
    "end\n",
    "ax1[:set_title](\"Cost-to-go\")\n",
    "ax2[:set_title](L\"Future cost $\\overline{Q}_t(x_{t-1})$\")\n",
    "ax1[:set_xlabel](L\"$x_{t-1} + \\xi_t$\")\n",
    "ax2[:set_xlabel](L\"$x_{t-1}$\")\n",
    "ax2[:legend](title=L\"Stage $t$\", bbox_to_anchor=(1,0.5), loc=\"center left\");"
   ]
  },
  {
   "cell_type": "markdown",
   "metadata": {},
   "source": [
    "# Using only Strenghtened benders cuts:\n",
    "\n",
    "This corresponds to $\\rho = 0$, for all stages and iterations."
   ]
  },
  {
   "cell_type": "code",
   "execution_count": null,
   "metadata": {},
   "outputs": [],
   "source": [
    "sb_model = controlmodel(nstages=8, discount=0.9, ramp_mode=:None, noise=noise)\n",
    "controlsolve(sb_model, 100)"
   ]
  },
  {
   "cell_type": "code",
   "execution_count": null,
   "metadata": {},
   "outputs": [],
   "source": [
    "ts = -3:0.02:3\n",
    "for t = 1:7\n",
    "    PyPlot.plot(ts, ASDDiP.Qfrak(sb_model,t,1,ts), label=\"$t\")\n",
    "end\n",
    "PyPlot.legend(title=L\"Stage $t$\")\n",
    "PyPlot.title(L\"Future cost functions $\\mathfrak{Q}_t$\")\n",
    "PyPlot.grid();"
   ]
  },
  {
   "cell_type": "code",
   "execution_count": null,
   "metadata": {},
   "outputs": [],
   "source": [
    "ts = -3:0.1:3\n",
    "for t = 1:7\n",
    "    QTrue = Qt3[t]*discount^t\n",
    "    graph_fcfs(sb_model,t, ts, QTrue, filename=\"/tmp/1d_sb_stage$t.pdf\")\n",
    "end"
   ]
  },
  {
   "cell_type": "markdown",
   "metadata": {},
   "source": [
    "# Using ALD\n",
    "\n",
    "We estimate $\\displaystyle Lip_t = \\beta^{t-1} + \\beta^t + \\ldots + \\beta^{8-1} = \\beta^{t-1}(1 + \\ldots + \\beta^{8-t}) = \\frac{1 - \\beta^{8+1-t}}{1 - \\beta}\\beta^{t-1}$."
   ]
  },
  {
   "cell_type": "markdown",
   "metadata": {},
   "source": [
    "# First strategy: homothetic\n",
    "\n",
    "At iteration $n$ and stage $t$, we set\n",
    "$$\\rho_t = \\min\\left(1, \\max\\left(0, \\frac{n-15}{15}\\right)\\right) \\cdot Lip_t. $$\n",
    "\n",
    "That is:\n",
    "\n",
    "- in the first 15 stages, $\\rho_t = 0$;\n",
    "- then increase $\\rho_t$ until it reaches $Lip_t$ in 15 stages;\n",
    "- and keep at $Lip_t$ until the end."
   ]
  },
  {
   "cell_type": "code",
   "execution_count": null,
   "metadata": {},
   "outputs": [],
   "source": [
    "ald_simple_model = controlmodel(nstages=8, discount=0.9, ramp_mode=:simple, noise=noise)\n",
    "controlsolve(ald_simple_model, 100)"
   ]
  },
  {
   "cell_type": "markdown",
   "metadata": {},
   "source": [
    "### Graph of FCF"
   ]
  },
  {
   "cell_type": "code",
   "execution_count": null,
   "metadata": {},
   "outputs": [],
   "source": [
    "ts = -3:0.02:3\n",
    "for t = 1:7\n",
    "    PyPlot.plot(ts, ASDDiP.Qfrak(ald_simple_model,t,1,ts), label=\"$t\")\n",
    "end\n",
    "PyPlot.legend(title=\"Stage\")\n",
    "PyPlot.title(\"Future cost functions\")\n",
    "PyPlot.grid();"
   ]
  },
  {
   "cell_type": "code",
   "execution_count": null,
   "metadata": {},
   "outputs": [],
   "source": [
    "ts = -3:0.1:3\n",
    "for t = 1:7\n",
    "    QTrue = Qt3[t]*discount^t\n",
    "    graph_fcfs(ald_simple_model,t, ts, QTrue, filename=\"/tmp/1d_ald_s_stage$t.pdf\")\n",
    "end"
   ]
  },
  {
   "cell_type": "markdown",
   "metadata": {},
   "source": [
    "# Second strategy: parallel\n",
    "\n",
    "At iteration $n$ and stage $t$, we set\n",
    "$$\\rho_t = \\min\\left(Lip_t, \\max\\left(0, \\frac{n-15}{15}\\right)\\right). $$\n",
    "\n",
    "That is:\n",
    "\n",
    "- in the first 15 stages, $\\rho_t = 0$;\n",
    "- then increase with equal steps at all stages, stopping at $Lip_t$; (so that different stages \"saturate\" at different times)\n",
    "- and keep at $Lip_t$ until the end."
   ]
  },
  {
   "cell_type": "code",
   "execution_count": null,
   "metadata": {},
   "outputs": [],
   "source": [
    "ald_par_model = controlmodel(nstages=8, discount=0.9, ramp_mode=:parallel, noise=noise)\n",
    "controlsolve(ald_par_model, 30)"
   ]
  },
  {
   "cell_type": "markdown",
   "metadata": {},
   "source": [
    "### Graph of FCF"
   ]
  },
  {
   "cell_type": "code",
   "execution_count": null,
   "metadata": {},
   "outputs": [],
   "source": [
    "ts = -3:0.02:3\n",
    "for t = 1:7\n",
    "    PyPlot.plot(ts, ASDDiP.Qfrak(ald_par_model,t,1,ts), label=\"$t\")\n",
    "end\n",
    "PyPlot.legend(title=\"Stage\")\n",
    "PyPlot.title(\"Future cost functions\")\n",
    "PyPlot.grid();"
   ]
  },
  {
   "cell_type": "code",
   "execution_count": null,
   "metadata": {},
   "outputs": [],
   "source": [
    "ts = -3:0.1:3\n",
    "for t = 1:7\n",
    "    QTrue = Qt3[t]*discount^t\n",
    "    graph_fcfs(ald_par_model,t, ts, QTrue, filename=\"/tmp/1d_ald_p_stage$t.pdf\")\n",
    "end"
   ]
  },
  {
   "cell_type": "markdown",
   "metadata": {},
   "source": [
    "## Creating cuts\n",
    "\n",
    "We can observe that $\\tilde{Q}_6$ is still a close approximation to $\\overline{Q}_6$,\n",
    "but $\\mathfrak{Q}_6$ is a very poor approximation outside of $[-1,1]$.\n",
    "One could conjecture that the \"gap\" that (progressively) opens between $\\overline{Q}_t$ and $\\tilde{Q}_t$ in previous stages\n",
    "comes from these gaps outside of $[-1,1]$.\n",
    "\n",
    "Let's see if closing these gaps manually yields better approximations."
   ]
  },
  {
   "cell_type": "code",
   "execution_count": null,
   "metadata": {},
   "outputs": [],
   "source": [
    "t = 7\n",
    "stage6 = SDDP.getstage(ald_par_model,t-1)\n",
    "stage6.state\n",
    "rho7 = SDDP.getstage(ald_par_model,t).ext[:rhos](100, t)"
   ]
  },
  {
   "cell_type": "code",
   "execution_count": null,
   "metadata": {},
   "outputs": [],
   "source": [
    "ASDDiP.make_cut(ald_par_model,7,[-2.], rho7)"
   ]
  },
  {
   "cell_type": "code",
   "execution_count": null,
   "metadata": {},
   "outputs": [],
   "source": [
    "ASDDiP.make_cut(ald_par_model,7,[ 2.], rho7)"
   ]
  },
  {
   "cell_type": "code",
   "execution_count": null,
   "metadata": {},
   "outputs": [],
   "source": [
    "for x in [-1.5,1.5]\n",
    "    ASDDiP.make_cut(ald_par_model,7,[x],0.1)\n",
    "end"
   ]
  },
  {
   "cell_type": "code",
   "execution_count": null,
   "metadata": {},
   "outputs": [],
   "source": [
    "for x in [-1.25,1.25]\n",
    "    ASDDiP.make_cut(ald_par_model,7,[x],0.4)\n",
    "end"
   ]
  },
  {
   "cell_type": "code",
   "execution_count": null,
   "metadata": {},
   "outputs": [],
   "source": [
    "graph_fcfs(ald_par_model, 6, ts, Qt3[6]*discount^6)"
   ]
  },
  {
   "cell_type": "markdown",
   "metadata": {},
   "source": [
    "## Implact on previous stage cost function"
   ]
  },
  {
   "cell_type": "code",
   "execution_count": null,
   "metadata": {},
   "outputs": [],
   "source": [
    "ts = -3:0.1:3\n",
    "graph_fcfs(ald_par_model, 5, ts, Qt3[5]*discount^5)"
   ]
  },
  {
   "cell_type": "markdown",
   "metadata": {},
   "source": [
    "# Third strategy: double of parallel\n",
    "\n",
    "At iteration $n$ and stage $t$, we set\n",
    "$$\\rho_t = \\min\\left(2 Lip_t, \\max\\left(0, \\frac{n-15}{15}\\right)\\right). $$\n",
    "\n",
    "That is:\n",
    "\n",
    "- in the first 15 stages, $\\rho_t = 0$;\n",
    "- then increase with equal steps at all stages, stopping at $2 Lip_t$; (so that different stages \"saturate\" at different times)\n",
    "- and keep at $2 Lip_t$ until the end."
   ]
  },
  {
   "cell_type": "code",
   "execution_count": null,
   "metadata": {},
   "outputs": [],
   "source": [
    "ald_par2_model = controlmodel(nstages=8, discount=0.9, ramp_mode=:parallel2, noise=noise)\n",
    "controlsolve(ald_par2_model, 100)"
   ]
  },
  {
   "cell_type": "markdown",
   "metadata": {},
   "source": [
    "### Graph of FCF"
   ]
  },
  {
   "cell_type": "code",
   "execution_count": null,
   "metadata": {},
   "outputs": [],
   "source": [
    "ts = -3:0.02:3\n",
    "for t = 1:7\n",
    "    PyPlot.plot(ts, ASDDiP.Qfrak(ald_par2_model,t,1,ts), label=\"$t\")\n",
    "end\n",
    "PyPlot.legend(title=\"Stage\")\n",
    "PyPlot.title(\"Future cost functions\")\n",
    "PyPlot.grid();"
   ]
  },
  {
   "cell_type": "code",
   "execution_count": null,
   "metadata": {},
   "outputs": [],
   "source": [
    "ts = -3:0.1:3\n",
    "for t = 1:7\n",
    "    QTrue = Qt3[t]*discount^t\n",
    "    graph_fcfs(ald_par2_model,t, ts, QTrue, filename=\"/tmp/1d_ald_p2_stage$t.pdf\")\n",
    "end"
   ]
  },
  {
   "cell_type": "markdown",
   "metadata": {},
   "source": [
    "# Comparing models"
   ]
  },
  {
   "cell_type": "code",
   "execution_count": null,
   "metadata": {},
   "outputs": [],
   "source": [
    "models = [sb_model, ald_simple_model, ald_par_model, ald_par2_model]\n",
    "names  = [\"SB\", \"ALD simple\", \"ALD parallel\", \"ALD parallel2\"];"
   ]
  },
  {
   "cell_type": "code",
   "execution_count": null,
   "metadata": {},
   "outputs": [],
   "source": [
    "t = 1\n",
    "compare_qfrak(models, t, ts, Qt3[t]*discount^t)"
   ]
  },
  {
   "cell_type": "code",
   "execution_count": null,
   "metadata": {},
   "outputs": [],
   "source": [
    "t = 3\n",
    "compare_qfrak(models, t, ts, Qt3[t]*discount^t)"
   ]
  },
  {
   "cell_type": "markdown",
   "metadata": {},
   "source": [
    "# Lower bound evolution"
   ]
  },
  {
   "cell_type": "code",
   "execution_count": null,
   "metadata": {},
   "outputs": [],
   "source": [
    "fig, (ax1,ax2) = PyPlot.subplots(ncols=2, figsize=(12,4))\n",
    "PyPlot.suptitle(\"Lower bound\")\n",
    "\n",
    "for (i,m) in enumerate(models)\n",
    "    mylog = m.log\n",
    "    ts = (x -> x.timecuts).(mylog)\n",
    "    vs = (x -> x.bound).(mylog)\n",
    "    ax1[:plot](ts - mylog[1].timecuts, vs, label=\"$i\")\n",
    "    ax2[:semilogx](ts - mylog[1].timecuts, vs, label=\"$i\")\n",
    "end\n",
    "for ax in (ax1,ax2)\n",
    "    ax[:set_xlabel](\"Time\")\n",
    "    ax[:legend](names)\n",
    "end"
   ]
  },
  {
   "cell_type": "code",
   "execution_count": null,
   "metadata": {},
   "outputs": [],
   "source": [
    "fig, (ax1,ax2) = PyPlot.subplots(ncols=2, figsize=(12,4))\n",
    "PyPlot.suptitle(\"Lower bound\")\n",
    "\n",
    "for (i,m) in enumerate(models)\n",
    "    mylog = m.log\n",
    "    ts = (x -> x.timecuts).(mylog)\n",
    "    vs = (x -> x.bound).(mylog)\n",
    "    ax1[:plot](vs, label=\"$i\")\n",
    "    ax2[:semilogx](vs, label=\"$i\")\n",
    "end\n",
    "for ax in (ax1,ax2)\n",
    "    ax[:set_xlabel](\"Iteration\")\n",
    "    ax[:legend](names)\n",
    "end"
   ]
  }
 ],
 "metadata": {
  "kernelspec": {
   "display_name": "Julia 0.6.4",
   "language": "julia",
   "name": "julia-0.6"
  },
  "language_info": {
   "file_extension": ".jl",
   "mimetype": "application/julia",
   "name": "julia"
  }
 },
 "nbformat": 4,
 "nbformat_minor": 2
}
