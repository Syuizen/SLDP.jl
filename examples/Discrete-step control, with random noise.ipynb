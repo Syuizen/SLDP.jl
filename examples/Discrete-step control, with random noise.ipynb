{
 "cells": [
  {
   "cell_type": "markdown",
   "metadata": {},
   "source": [
    "![CC-BY-SA](https://mirrors.creativecommons.org/presskit/buttons/88x31/svg/by-sa.svg)\n",
    "This notebook was created by [Bernardo Freitas Paulo da Costa](http://www.im.ufrj.br/bernardofpc),\n",
    "and is licensed under Creative Commons BY-SA"
   ]
  },
  {
   "cell_type": "markdown",
   "metadata": {},
   "source": [
    "# Libs"
   ]
  },
  {
   "cell_type": "code",
   "execution_count": null,
   "metadata": {},
   "outputs": [],
   "source": [
    "import SDDP, JuMP, ASDDiP, PyPlot"
   ]
  },
  {
   "cell_type": "code",
   "execution_count": null,
   "metadata": {},
   "outputs": [],
   "source": [
    "import LaTeXStrings: @L_str"
   ]
  },
  {
   "cell_type": "markdown",
   "metadata": {},
   "source": [
    "## Local utils"
   ]
  },
  {
   "cell_type": "code",
   "execution_count": null,
   "metadata": {},
   "outputs": [],
   "source": [
    "function graph_fcfs(m, t, ts, QTrue; filename=nothing)\n",
    "    qe = QTrue\n",
    "    qt = ASDDiP.Qtilde(m,t,1,ts)\n",
    "    qf = ASDDiP.Qfrak(m,t,1,ts)\n",
    "\n",
    "    fig, (ax1,ax2) = PyPlot.subplots(ncols=2, figsize=(12,4))\n",
    "    PyPlot.suptitle(\"Stage $t\")\n",
    "\n",
    "    ax1[:plot](ts, qe, label=L\"$\\overline{Q}$: exact\")\n",
    "    ax1[:plot](ts, qt, label=L\"$\\tilde{Q}$: mean of next stage approximations\")\n",
    "    ax1[:plot](ts, qf, label=L\"$\\mathfrak{Q}$: current stage approximation\")\n",
    "    ax1[:legend]()\n",
    "    ax1[:set_title](\"Future cost functions\")\n",
    "    ax1[:grid]()\n",
    "\n",
    "    ax2[:plot](ts, qt - qf, label=L\"$\\tilde{Q} - \\mathfrak{Q}$\")\n",
    "    ax2[:plot](ts, qe - qf, label=L\"$\\overline{Q} - \\mathfrak{Q}$\")\n",
    "    ax2[:plot](ts, qe - qt, label=L\"$\\overline{Q} - \\tilde{Q}$\")\n",
    "    ax2[:set_title](\"Differences\")\n",
    "    ax2[:legend]()\n",
    "    ax2[:grid]()\n",
    "\n",
    "    if filename != nothing\n",
    "        PyPlot.savefig(filename)\n",
    "    end\n",
    "end"
   ]
  },
  {
   "cell_type": "markdown",
   "metadata": {},
   "source": [
    "# A toy model for ALD-SDDiP"
   ]
  },
  {
   "cell_type": "markdown",
   "metadata": {},
   "source": [
    "## Description\n",
    "\n",
    "$$\\begin{array}{rl}\n",
    "      \\min  & \\mathbb{E}\\left[\\sum\\limits_t \\beta^{t-1}|x_t|\\right] \\\\\n",
    "\\text{s.t.} & \\quad x_t = x_{t-1} + c_t + \\xi_t \\\\\n",
    "            & \\quad c_t \\in \\{\\pm 1\\}\n",
    "\\end{array} $$"
   ]
  },
  {
   "cell_type": "markdown",
   "metadata": {},
   "source": [
    "## Future cost functions\n",
    "\n",
    "The corresponding dynamic programming / recursive equations are:\n",
    "\n",
    "$$ Q_t(x_{t-1},\\xi_t) =\n",
    "  \\begin{array}[t]{rl}\n",
    "  \\min\\limits_{x_t} & |x_t| + \\beta \\cdot \\mathbb{E}\\left[ Q_{t+1}(x_t,\\xi_{t+1}) \\right] \\\\\n",
    "  \\text{s.t.}       & x_t = x_{t-1} + c_t + \\xi_t \\\\\n",
    "                    & c_t \\in \\{\\pm1\\}\n",
    "  \\end{array}\n",
    "$$\n",
    "\n",
    "The averages will be denoted (as usual) by $\\overline{Q}_t(x_{t-1}) = \\mathbb{E}\\big[ Q_t(x_{t-1},\\xi_t) \\big]$.\n",
    "\n",
    "### Cuts and lower approximations\n",
    "\n",
    "Any lower bound for $\\overline{Q}_{t+1}$ is a _cut_.\n",
    "The maximum of $k$ such cuts is denoted $\\mathfrak{Q}_{t+1}^k$, and is constructed incrementally during the SDDP algorithm.\n",
    "The dynamic programming where we replace $\\overline{Q}_{t+t}$ with $\\mathfrak{Q}_{t+1}$ yields the backwards functions:\n",
    "$$ \\tilde{Q}_t^k(x_{t-1},\\xi_t) =\n",
    "  \\begin{array}[t]{rl}\n",
    "  \\min\\limits_{x_t} & |x_t| + \\beta \\cdot \\mathfrak{Q}_{t+1}^k(x_t) \\\\\n",
    "  \\text{s.t.}       & x_t = x_{t-1} + c_t + \\xi_t \\\\\n",
    "                    & c_t \\in \\{\\pm1\\}\n",
    "  \\end{array}\n",
    "$$\n"
   ]
  },
  {
   "cell_type": "markdown",
   "metadata": {},
   "source": [
    "## Analytic solution using symmetry"
   ]
  },
  {
   "cell_type": "code",
   "execution_count": null,
   "metadata": {},
   "outputs": [],
   "source": [
    "cost(x::Float64) = abs(x)\n",
    "next_step(x::Float64) = (x >=0 ? x-1 : x+1)"
   ]
  },
  {
   "cell_type": "code",
   "execution_count": null,
   "metadata": {},
   "outputs": [],
   "source": [
    "function Q2_bar(x2::T, nmax::Int, noise::AbstractArray{T,1}, beta=0.5::Float64, t=1::Int) where T\n",
    "    if t >= nmax\n",
    "        return 0.0\n",
    "    end\n",
    "\n",
    "    nsamples = length(noise)\n",
    "    ans = 0.0\n",
    "    for xi in noise\n",
    "        ans += solve_bin_sym(x2+xi, nmax, noise, beta, t+1)\n",
    "    end\n",
    "    return ans/nsamples\n",
    "end\n",
    "    \n",
    "function solve_bin_sym(x::T, nmax::Int, noise::AbstractArray{T,1}, beta=0.5::Float64, t=1::Int) where T\n",
    "    if t > nmax\n",
    "        return 0.0\n",
    "    end\n",
    "    \n",
    "    x2 = next_step(x)\n",
    "    return cost(x2) + beta*Q2_bar(x2, nmax, noise, beta, t)\n",
    "end"
   ]
  },
  {
   "cell_type": "markdown",
   "metadata": {},
   "source": [
    "## Data \n",
    "\n",
    "### The discount factor $\\beta$\n",
    "\n",
    "We take a relatively \"small\" decay, $\\beta = 0.9$."
   ]
  },
  {
   "cell_type": "code",
   "execution_count": null,
   "metadata": {},
   "outputs": [],
   "source": [
    "discount = 0.9"
   ]
  },
  {
   "cell_type": "markdown",
   "metadata": {},
   "source": [
    "### The noise $\\xi_t$\n",
    "\n",
    "Is identically distributed (\"periodic system\"), and **symmetric** (important for the analytic solution above)."
   ]
  },
  {
   "cell_type": "code",
   "execution_count": null,
   "metadata": {},
   "outputs": [],
   "source": [
    "srand(11111)\n",
    "A_noise   = 0.4\n",
    "num_noise = 5\n",
    "noise = randn(num_noise)\n",
    "noise = A_noise * [noise; -noise];"
   ]
  },
  {
   "cell_type": "markdown",
   "metadata": {},
   "source": [
    "## Calculations for a 61-point discretization"
   ]
  },
  {
   "cell_type": "code",
   "execution_count": null,
   "metadata": {},
   "outputs": [],
   "source": [
    "ts = -3:0.1:3"
   ]
  },
  {
   "cell_type": "code",
   "execution_count": null,
   "metadata": {},
   "outputs": [],
   "source": [
    "Qt3 = Vector{Float64}[]\n",
    "for t = 1:7\n",
    "    v = [Q2_bar(ti, 8, noise, discount, t) for ti in ts]\n",
    "    push!(Qt3, v)\n",
    "end"
   ]
  },
  {
   "cell_type": "code",
   "execution_count": null,
   "metadata": {},
   "outputs": [],
   "source": [
    "fig, (ax1,ax2) = PyPlot.subplots(ncols=2, figsize=(10,4))\n",
    "for t = 1:7\n",
    "    ax1[:plot](ts, Qt3[t], label=\"$t\")\n",
    "    ax2[:plot](ts, Qt3[t]*discount^t, label=\"$t\")\n",
    "end\n",
    "ax1[:set_title](\"Future cost (value at current time)\")\n",
    "ax2[:set_title](\"Future cost (in 1st stage values)\")\n",
    "ax2[:legend](title=L\"Stage $t$\", bbox_to_anchor=(1,0.5), loc=\"center left\");"
   ]
  },
  {
   "cell_type": "markdown",
   "metadata": {},
   "source": [
    "The future cost \"at current time\" can also be interpreted as the future cost at the first stage considering a time horizon of $9-t$ stages.\n",
    "So, for example, the line corresponding to \"stage 3\" is also the future cost function at the first stage of a 6-stage problem.\n",
    "\n",
    "The limit of these curves can be taken as one approximation for the \"infinite horizon problem\"."
   ]
  },
  {
   "cell_type": "markdown",
   "metadata": {},
   "source": [
    "# Cost-to-go and Average cost-to-go"
   ]
  },
  {
   "cell_type": "code",
   "execution_count": null,
   "metadata": {},
   "outputs": [],
   "source": [
    "fig, (ax1,ax2) = PyPlot.subplots(ncols=2, figsize=(10,4))\n",
    "for t = 1:7\n",
    "    ctg = [solve_bin_sym(ti, 8, noise, discount, t) for ti in ts]\n",
    "    ax1[:plot](ts, ctg*discount^(t-1), label=\"$t\")\n",
    "    ax2[:plot](ts, Qt3[t]*discount^t, label=\"$t\")\n",
    "end\n",
    "ax1[:set_title](\"Cost-to-go\")\n",
    "ax2[:set_title](L\"Future cost $\\overline{Q}_t(x_{t-1})$\")\n",
    "ax1[:set_xlabel](L\"$x_{t-1} + \\xi_t$\")\n",
    "ax2[:set_xlabel](L\"$x_{t-1}$\")\n",
    "ax2[:legend](title=L\"Stage $t$\", bbox_to_anchor=(1,0.5), loc=\"center left\");"
   ]
  },
  {
   "cell_type": "markdown",
   "metadata": {},
   "source": [
    "# Using only Strenghtened benders cuts:\n",
    "\n",
    "This corresponds to $\\rho = 0$, for all stages and iterations."
   ]
  },
  {
   "cell_type": "code",
   "execution_count": null,
   "metadata": {},
   "outputs": [],
   "source": [
    "ramp_mode = :None"
   ]
  },
  {
   "cell_type": "code",
   "execution_count": null,
   "metadata": {},
   "outputs": [],
   "source": [
    "niters = 100\n",
    "include(\"control.jl\")"
   ]
  },
  {
   "cell_type": "code",
   "execution_count": null,
   "metadata": {},
   "outputs": [],
   "source": [
    "ts = -3:0.02:3\n",
    "for t = 1:7\n",
    "    PyPlot.plot(ts, ASDDiP.Qfrak(m,t,1,ts), label=\"$t\")\n",
    "end\n",
    "PyPlot.legend(title=L\"Stage $t$\")\n",
    "PyPlot.title(L\"Future cost functions $\\mathfrak{Q}_t$\")\n",
    "PyPlot.grid();"
   ]
  },
  {
   "cell_type": "code",
   "execution_count": null,
   "metadata": {},
   "outputs": [],
   "source": [
    "ts = -3:0.1:3\n",
    "for t = 1:7\n",
    "    QTrue = Qt3[t]*discount^t\n",
    "    graph_fcfs(m,t, ts, QTrue, filename=\"/tmp/1d_sb_stage$t.pdf\")\n",
    "end"
   ]
  },
  {
   "cell_type": "markdown",
   "metadata": {},
   "source": [
    "# Using ALD\n",
    "\n",
    "We estimate $\\displaystyle Lip_t = \\beta^{t-1} + \\beta^t + \\ldots + \\beta^{8-1} = \\beta^{t-1}(1 + \\ldots + \\beta^{8-t}) = \\frac{1 - \\beta^{8+1-t}}{1 - \\beta}\\beta^{t-1}$."
   ]
  },
  {
   "cell_type": "markdown",
   "metadata": {},
   "source": [
    "# First strategy: homothetic\n",
    "\n",
    "At iteration $n$ and stage $t$, we set\n",
    "$$\\rho_t = \\min\\left(1, \\max\\left(0, \\frac{n-15}{15}\\right)\\right) \\cdot Lip_t. $$\n",
    "\n",
    "That is:\n",
    "\n",
    "- in the first 15 stages, $\\rho_t = 0$;\n",
    "- then increase $\\rho_t$ until it reaches $Lip_t$ in 15 stages;\n",
    "- and keep at $Lip_t$ until the end."
   ]
  },
  {
   "cell_type": "code",
   "execution_count": null,
   "metadata": {},
   "outputs": [],
   "source": [
    "ramp_mode = :simple"
   ]
  },
  {
   "cell_type": "code",
   "execution_count": null,
   "metadata": {},
   "outputs": [],
   "source": [
    "include(\"control.jl\")"
   ]
  },
  {
   "cell_type": "markdown",
   "metadata": {},
   "source": [
    "### Graph of FCF"
   ]
  },
  {
   "cell_type": "code",
   "execution_count": null,
   "metadata": {},
   "outputs": [],
   "source": [
    "ts = -3:0.02:3\n",
    "for t = 1:7\n",
    "    PyPlot.plot(ts, ASDDiP.Qfrak(m,t,1,ts), label=\"$t\")\n",
    "end\n",
    "PyPlot.legend(title=\"Stage\")\n",
    "PyPlot.title(\"Future cost functions\")\n",
    "PyPlot.grid();"
   ]
  },
  {
   "cell_type": "code",
   "execution_count": null,
   "metadata": {},
   "outputs": [],
   "source": [
    "ts = -3:0.1:3\n",
    "for t = 1:7\n",
    "    QTrue = Qt3[t]*discount^t\n",
    "    graph_fcfs(m,t, ts, QTrue, filename=\"/tmp/1d_ald_s_stage$t.pdf\")\n",
    "end"
   ]
  },
  {
   "cell_type": "markdown",
   "metadata": {},
   "source": [
    "# Second strategy: parallel\n",
    "\n",
    "At iteration $n$ and stage $t$, we set\n",
    "$$\\rho_t = \\min\\left(Lip_t, \\max\\left(0, \\frac{n-15}{15}\\right)\\right). $$\n",
    "\n",
    "That is:\n",
    "\n",
    "- in the first 15 stages, $\\rho_t = 0$;\n",
    "- then increase with equal steps at all stages, stopping at $Lip_t$; (so that different stages \"saturate\" at different times)\n",
    "- and keep at $Lip_t$ until the end."
   ]
  },
  {
   "cell_type": "code",
   "execution_count": null,
   "metadata": {},
   "outputs": [],
   "source": [
    "ramp_mode = :parallel"
   ]
  },
  {
   "cell_type": "code",
   "execution_count": null,
   "metadata": {},
   "outputs": [],
   "source": [
    "include(\"control.jl\")"
   ]
  },
  {
   "cell_type": "markdown",
   "metadata": {},
   "source": [
    "### Graph of FCF"
   ]
  },
  {
   "cell_type": "code",
   "execution_count": null,
   "metadata": {},
   "outputs": [],
   "source": [
    "ts = -3:0.02:3\n",
    "for t = 1:7\n",
    "    PyPlot.plot(ts, ASDDiP.Qfrak(m,t,1,ts), label=\"$t\")\n",
    "end\n",
    "PyPlot.legend(title=\"Stage\")\n",
    "PyPlot.title(\"Future cost functions\")\n",
    "PyPlot.grid();"
   ]
  },
  {
   "cell_type": "code",
   "execution_count": null,
   "metadata": {},
   "outputs": [],
   "source": [
    "ts = -3:0.1:3\n",
    "for t = 1:7\n",
    "    QTrue = Qt3[t]*discount^t\n",
    "    graph_fcfs(m,t, ts, QTrue, filename=\"/tmp/1d_ald_p_stage$t.pdf\")\n",
    "end"
   ]
  },
  {
   "cell_type": "markdown",
   "metadata": {},
   "source": [
    "# Third strategy: double of parallel\n",
    "\n",
    "At iteration $n$ and stage $t$, we set\n",
    "$$\\rho_t = \\min\\left(2 Lip_t, \\max\\left(0, \\frac{n-15}{15}\\right)\\right). $$\n",
    "\n",
    "That is:\n",
    "\n",
    "- in the first 15 stages, $\\rho_t = 0$;\n",
    "- then increase with equal steps at all stages, stopping at $2 Lip_t$; (so that different stages \"saturate\" at different times)\n",
    "- and keep at $2 Lip_t$ until the end."
   ]
  },
  {
   "cell_type": "code",
   "execution_count": null,
   "metadata": {},
   "outputs": [],
   "source": [
    "ramp_mode = :parallel2"
   ]
  },
  {
   "cell_type": "code",
   "execution_count": null,
   "metadata": {},
   "outputs": [],
   "source": [
    "include(\"control.jl\")"
   ]
  },
  {
   "cell_type": "markdown",
   "metadata": {},
   "source": [
    "### Graph of FCF"
   ]
  },
  {
   "cell_type": "code",
   "execution_count": null,
   "metadata": {},
   "outputs": [],
   "source": [
    "ts = -3:0.02:3\n",
    "for t = 1:7\n",
    "    PyPlot.plot(ts, ASDDiP.Qfrak(m,t,1,ts), label=\"$t\")\n",
    "end\n",
    "PyPlot.legend(title=\"Stage\")\n",
    "PyPlot.title(\"Future cost functions\")\n",
    "PyPlot.grid();"
   ]
  },
  {
   "cell_type": "code",
   "execution_count": null,
   "metadata": {},
   "outputs": [],
   "source": [
    "ts = -3:0.1:3\n",
    "for t = 1:7\n",
    "    QTrue = Qt3[t]*discount^t\n",
    "    graph_fcfs(m,t, ts, QTrue, filename=\"/tmp/1d_ald_p2_stage$t.pdf\")\n",
    "end"
   ]
  }
 ],
 "metadata": {
  "kernelspec": {
   "display_name": "Julia 0.6.4",
   "language": "julia",
   "name": "julia-0.6"
  },
  "language_info": {
   "file_extension": ".jl",
   "mimetype": "application/julia",
   "name": "julia"
  }
 },
 "nbformat": 4,
 "nbformat_minor": 2
}
