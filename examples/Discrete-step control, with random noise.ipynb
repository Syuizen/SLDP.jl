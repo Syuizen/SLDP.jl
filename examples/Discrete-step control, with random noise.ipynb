{
 "cells": [
  {
   "cell_type": "code",
   "execution_count": null,
   "metadata": {},
   "outputs": [],
   "source": [
    "import SDDP, JuMP, ASDDiP"
   ]
  },
  {
   "cell_type": "code",
   "execution_count": null,
   "metadata": {},
   "outputs": [],
   "source": [
    "function Q(m,t,ms, x)\n",
    "    sp = SDDP.getsubproblem(m,t,ms)\n",
    "    vf = SDDP.valueoracle(sp)\n",
    "    _, y_cont = SDDP.processvaluefunctiondata(vf, true, x)\n",
    "    y_ald = ASDDiP.estimatevf(sp, x)\n",
    "    maximum(hcat(y_cont, y_ald), 2)[:,1]\n",
    "end"
   ]
  },
  {
   "cell_type": "code",
   "execution_count": null,
   "metadata": {},
   "outputs": [],
   "source": [
    "import PyPlot"
   ]
  },
  {
   "cell_type": "markdown",
   "metadata": {},
   "source": [
    "# A toy model for ALD-SDDiP"
   ]
  },
  {
   "cell_type": "markdown",
   "metadata": {},
   "source": [
    "## Description\n",
    "\n",
    "$\\min \\sum_t |x_t| \\quad \\text{s.t.} \\quad x_t = x_{t-1} + c_t + \\xi_t, \\quad c_t \\in {\\pm 1}$"
   ]
  },
  {
   "cell_type": "markdown",
   "metadata": {},
   "source": [
    "# Only Strenghtened benders cuts:"
   ]
  },
  {
   "cell_type": "code",
   "execution_count": null,
   "metadata": {},
   "outputs": [],
   "source": [
    "ramp_mode = :None"
   ]
  },
  {
   "cell_type": "code",
   "execution_count": null,
   "metadata": {},
   "outputs": [],
   "source": [
    "include(\"control.jl\")"
   ]
  },
  {
   "cell_type": "code",
   "execution_count": null,
   "metadata": {},
   "outputs": [],
   "source": [
    "ts = -3:0.02:3\n",
    "for t = 1:7\n",
    "    PyPlot.plot(ts, Q(m,t,1,ts), label=\"$t\")\n",
    "end\n",
    "PyPlot.legend(title=\"Stage\")\n",
    "PyPlot.grid();\n",
    "#PyPlot.show()"
   ]
  },
  {
   "cell_type": "markdown",
   "metadata": {},
   "source": [
    "# First strategy: homothetic\n",
    "- $\\rho = 0$ for 15 stages,\n",
    "- then increase until $Lip_t$ in 15 stages\n",
    "- and keep at $Lip_t$ until the end."
   ]
  },
  {
   "cell_type": "code",
   "execution_count": null,
   "metadata": {},
   "outputs": [],
   "source": [
    "ramp_mode = :simple"
   ]
  },
  {
   "cell_type": "code",
   "execution_count": null,
   "metadata": {},
   "outputs": [],
   "source": [
    "include(\"control.jl\")"
   ]
  },
  {
   "cell_type": "code",
   "execution_count": null,
   "metadata": {},
   "outputs": [],
   "source": [
    "ts = -3:0.02:3\n",
    "for t = 1:7\n",
    "    PyPlot.plot(ts, Q(m,t,1,ts), label=\"$t\")\n",
    "end\n",
    "PyPlot.legend(title=\"Stage\")\n",
    "PyPlot.grid();\n",
    "#PyPlot.show()"
   ]
  },
  {
   "cell_type": "markdown",
   "metadata": {},
   "source": [
    "# Only Strenghtened benders cuts:"
   ]
  },
  {
   "cell_type": "code",
   "execution_count": null,
   "metadata": {},
   "outputs": [],
   "source": [
    "ramp_mode = :parallel"
   ]
  },
  {
   "cell_type": "code",
   "execution_count": null,
   "metadata": {},
   "outputs": [],
   "source": [
    "include(\"control.jl\")"
   ]
  },
  {
   "cell_type": "code",
   "execution_count": null,
   "metadata": {},
   "outputs": [],
   "source": [
    "ts = -3:0.02:3\n",
    "for t = 1:7\n",
    "    PyPlot.plot(ts, Q(m,t,1,ts), label=\"$t\")\n",
    "end\n",
    "PyPlot.legend(title=\"Stage\")\n",
    "PyPlot.grid();\n",
    "#PyPlot.show()"
   ]
  }
 ],
 "metadata": {
  "kernelspec": {
   "display_name": "Julia 0.6.2",
   "language": "julia",
   "name": "julia-0.6"
  },
  "language_info": {
   "file_extension": ".jl",
   "mimetype": "application/julia",
   "name": "julia"
  }
 },
 "nbformat": 4,
 "nbformat_minor": 2
}
