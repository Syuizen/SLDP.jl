{
 "cells": [
  {
   "cell_type": "code",
   "execution_count": null,
   "metadata": {},
   "outputs": [],
   "source": [
    "import SDDP, JuMP, ASDDiP, PyPlot"
   ]
  },
  {
   "cell_type": "code",
   "execution_count": null,
   "metadata": {},
   "outputs": [],
   "source": [
    "function Q(m,t,ms, x)\n",
    "    sp = SDDP.getsubproblem(m,t,ms)\n",
    "    vf = SDDP.valueoracle(sp)\n",
    "    _, y_cont = SDDP.processvaluefunctiondata(vf, true, x)\n",
    "    y_ald = ASDDiP.estimatevf(sp, x)\n",
    "    maximum(hcat(y_cont, y_ald), 2)[:,1]\n",
    "end"
   ]
  },
  {
   "cell_type": "markdown",
   "metadata": {},
   "source": [
    "# A toy model for ALD-SDDiP"
   ]
  },
  {
   "cell_type": "markdown",
   "metadata": {},
   "source": [
    "## Description\n",
    "\n",
    "$$\\begin{array}{rl}\n",
    "      \\min  & \\mathbb{E}\\left[\\sum\\limits_t |x_t|\\right] \\\\\n",
    "\\text{s.t.} & \\quad x_t = x_{t-1} + c_t + \\xi_t \\\\\n",
    "            & \\quad c_t \\in {\\pm 1}\n",
    "\\end{array} $$"
   ]
  },
  {
   "cell_type": "markdown",
   "metadata": {},
   "source": [
    "# Using only Strenghtened benders cuts:\n",
    "\n",
    "This corresponds to $\\rho = 0$, for all stages and iterations."
   ]
  },
  {
   "cell_type": "code",
   "execution_count": null,
   "metadata": {},
   "outputs": [],
   "source": [
    "ramp_mode = :None"
   ]
  },
  {
   "cell_type": "code",
   "execution_count": null,
   "metadata": {},
   "outputs": [],
   "source": [
    "include(\"control.jl\")"
   ]
  },
  {
   "cell_type": "code",
   "execution_count": null,
   "metadata": {},
   "outputs": [],
   "source": [
    "ts = -3:0.02:3\n",
    "for t = 1:7\n",
    "    PyPlot.plot(ts, Q(m,t,1,ts), label=\"$t\")\n",
    "end\n",
    "PyPlot.legend(title=\"Stage\")\n",
    "PyPlot.title(\"Future cost functions\")\n",
    "PyPlot.grid();"
   ]
  },
  {
   "cell_type": "markdown",
   "metadata": {},
   "source": [
    "# Using ALD\n",
    "\n",
    "We estimate $\\displaystyle Lip_t = \\beta^{t-1} + \\beta^t + \\ldots + \\beta^{8-1} = \\beta^{t-1}(1 + \\ldots + \\beta^{8-t}) = \\frac{1 - \\beta^{8+1-t}}{1 - \\beta}\\beta^{t-1}$."
   ]
  },
  {
   "cell_type": "markdown",
   "metadata": {},
   "source": [
    "# First strategy: homothetic\n",
    "\n",
    "At iteration $n$ and stage $t$, we set\n",
    "$$\\rho_t = \\min\\left(1, \\max\\left(0, \\frac{n-15}{15}\\right)\\right) \\cdot Lip_t. $$\n",
    "\n",
    "That is:\n",
    "\n",
    "- in the first 15 stages, $\\rho_t = 0$;\n",
    "- then increase $\\rho_t$ until it reaches $Lip_t$ in 15 stages;\n",
    "- and keep at $Lip_t$ until the end."
   ]
  },
  {
   "cell_type": "code",
   "execution_count": null,
   "metadata": {},
   "outputs": [],
   "source": [
    "ramp_mode = :simple"
   ]
  },
  {
   "cell_type": "code",
   "execution_count": null,
   "metadata": {},
   "outputs": [],
   "source": [
    "include(\"control.jl\")"
   ]
  },
  {
   "cell_type": "markdown",
   "metadata": {},
   "source": [
    "### Graph of FCF"
   ]
  },
  {
   "cell_type": "code",
   "execution_count": null,
   "metadata": {},
   "outputs": [],
   "source": [
    "ts = -3:0.02:3\n",
    "for t = 1:7\n",
    "    PyPlot.plot(ts, Q(m,t,1,ts), label=\"$t\")\n",
    "end\n",
    "PyPlot.legend(title=\"Stage\")\n",
    "PyPlot.title(\"Future cost functions\")\n",
    "PyPlot.grid();\n",
    "#PyPlot.show()"
   ]
  },
  {
   "cell_type": "markdown",
   "metadata": {},
   "source": [
    "# Second strategy: parallel\n",
    "\n",
    "At iteration $n$ and stage $t$, we set\n",
    "$$\\rho_t = \\min\\left(Lip_t, \\max\\left(0, \\frac{n-15}{15}\\right)\\right). $$\n",
    "\n",
    "That is:\n",
    "\n",
    "- in the first 15 stages, $\\rho_t = 0$;\n",
    "- then increase with equal steps at all stages, stopping at $Lip_t$; (so that different stages \"saturate\" at different times)\n",
    "- and keep at $Lip_t$ until the end."
   ]
  },
  {
   "cell_type": "code",
   "execution_count": null,
   "metadata": {},
   "outputs": [],
   "source": [
    "ramp_mode = :parallel"
   ]
  },
  {
   "cell_type": "code",
   "execution_count": null,
   "metadata": {},
   "outputs": [],
   "source": [
    "include(\"control.jl\")"
   ]
  },
  {
   "cell_type": "markdown",
   "metadata": {},
   "source": [
    "### Graph of FCF"
   ]
  },
  {
   "cell_type": "code",
   "execution_count": null,
   "metadata": {},
   "outputs": [],
   "source": [
    "ts = -3:0.02:3\n",
    "for t = 1:7\n",
    "    PyPlot.plot(ts, Q(m,t,1,ts), label=\"$t\")\n",
    "end\n",
    "PyPlot.legend(title=\"Stage\")\n",
    "PyPlot.title(\"Future cost functions\")\n",
    "PyPlot.grid();\n",
    "#PyPlot.show()"
   ]
  },
  {
   "cell_type": "markdown",
   "metadata": {},
   "source": [
    "# Third strategy: double of parallel\n",
    "\n",
    "At iteration $n$ and stage $t$, we set\n",
    "$$\\rho_t = \\min\\left(2 Lip_t, \\max\\left(0, \\frac{n-15}{15}\\right)\\right). $$\n",
    "\n",
    "That is:\n",
    "\n",
    "- in the first 15 stages, $\\rho_t = 0$;\n",
    "- then increase with equal steps at all stages, stopping at $2 Lip_t$; (so that different stages \"saturate\" at different times)\n",
    "- and keep at $2 Lip_t$ until the end."
   ]
  },
  {
   "cell_type": "code",
   "execution_count": null,
   "metadata": {},
   "outputs": [],
   "source": [
    "ramp_mode = :parallel2"
   ]
  },
  {
   "cell_type": "code",
   "execution_count": null,
   "metadata": {},
   "outputs": [],
   "source": [
    "include(\"control.jl\")"
   ]
  },
  {
   "cell_type": "markdown",
   "metadata": {},
   "source": [
    "### Graph of FCF"
   ]
  },
  {
   "cell_type": "code",
   "execution_count": null,
   "metadata": {},
   "outputs": [],
   "source": [
    "ts = -3:0.02:3\n",
    "for t = 1:7\n",
    "    PyPlot.plot(ts, Q(m,t,1,ts), label=\"$t\")\n",
    "end\n",
    "PyPlot.legend(title=\"Stage\")\n",
    "PyPlot.title(\"Future cost functions\")\n",
    "PyPlot.grid();\n",
    "#PyPlot.show()"
   ]
  }
 ],
 "metadata": {
  "kernelspec": {
   "display_name": "Julia 0.6.1",
   "language": "julia",
   "name": "julia-0.6"
  },
  "language_info": {
   "file_extension": ".jl",
   "mimetype": "application/julia",
   "name": "julia"
  }
 },
 "nbformat": 4,
 "nbformat_minor": 2
}
