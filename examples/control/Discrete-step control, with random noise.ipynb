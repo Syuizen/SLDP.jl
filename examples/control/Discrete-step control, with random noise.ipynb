{
 "cells": [
  {
   "cell_type": "markdown",
   "metadata": {},
   "source": [
    "<center><font size=\"24\" face=\"Helvetica\"><b>A toy model for <tt>ALD-SDDiP</tt></b></font></center>\n",
    "\n",
    "</br>"
   ]
  },
  {
   "cell_type": "markdown",
   "metadata": {},
   "source": [
    "![CC-BY-SA](https://mirrors.creativecommons.org/presskit/buttons/88x31/svg/by-sa.svg)\n",
    "This notebook was created by [Bernardo Freitas Paulo da Costa](http://www.im.ufrj.br/bernardofpc),\n",
    "and is licensed under Creative Commons BY-SA"
   ]
  },
  {
   "cell_type": "markdown",
   "metadata": {},
   "source": [
    "# Libs"
   ]
  },
  {
   "cell_type": "code",
   "execution_count": null,
   "metadata": {},
   "outputs": [],
   "source": [
    "import SDDP, JuMP, PyPlot\n",
    "import SLDP"
   ]
  },
  {
   "cell_type": "code",
   "execution_count": null,
   "metadata": {},
   "outputs": [],
   "source": [
    "import LaTeXStrings: @L_str"
   ]
  },
  {
   "cell_type": "markdown",
   "metadata": {},
   "source": [
    "## Local utils"
   ]
  },
  {
   "cell_type": "code",
   "execution_count": null,
   "metadata": {},
   "outputs": [],
   "source": [
    "include(\"control.jl\")\n",
    "include(\"plt_control.jl\");"
   ]
  },
  {
   "cell_type": "markdown",
   "metadata": {},
   "source": [
    "# Problem description\n",
    "\n",
    "We consider a very simple stochastic control problem, with\n",
    "- 1-dimensional state $x_t$, subject to\n",
    "    - \"Binary\" control $c_t = \\pm 1$; and\n",
    "    - uncertain displacement $\\xi_t$.\n",
    "- Cost proportional to the distance to zero, subject to\n",
    "    - depreciation decay factor $\\beta$."
   ]
  },
  {
   "cell_type": "markdown",
   "metadata": {},
   "source": [
    "## Formulation\n",
    "\n",
    "$$\\begin{array}{rl}\n",
    "      \\min  & \\mathbb{E}\\left[\\sum\\limits_t \\beta^{t-1}|x_t|\\right] \\\\\n",
    "\\text{s.t.} & \\quad x_t = x_{t-1} + c_t + \\xi_t \\\\\n",
    "            & \\quad c_t \\in \\{\\pm 1\\}\n",
    "\\end{array} $$"
   ]
  },
  {
   "cell_type": "markdown",
   "metadata": {},
   "source": [
    "## Future cost functions\n",
    "\n",
    "The corresponding dynamic programming / recursive equations are:\n",
    "\n",
    "$$ Q_t(x_{t-1},\\xi_t) =\n",
    "  \\begin{array}[t]{rl}\n",
    "  \\min\\limits_{x_t} & |x_t| + \\beta \\cdot \\mathbb{E}\\left[ Q_{t+1}(x_t,\\xi_{t+1}) \\right] \\\\\n",
    "  \\text{s.t.}       & x_t = x_{t-1} + c_t + \\xi_t \\\\\n",
    "                    & c_t \\in \\{\\pm1\\}\n",
    "  \\end{array}\n",
    "$$\n",
    "\n",
    "The averages will be denoted (as usual) by $\\overline{Q}_t(x_{t-1}) = \\mathbb{E}\\big[ Q_t(x_{t-1},\\xi_t) \\big]$.\n",
    "\n",
    "### Cuts and lower approximations\n",
    "\n",
    "- Any lower bound for $\\overline{Q}_t$ is a _cut_.\n",
    "- The maximum of the $k$ first cuts is denoted $\\mathfrak{Q}_t^k$,\n",
    "  and is constructed incrementally during the SDDP algorithm.\n",
    "- The dynamic programming where we replace $\\overline{Q}_{t+1}$ with $\\mathfrak{Q}_{t+1}$\n",
    "  yields the _backwards functions_:\n",
    "$$ \\tilde{Q}_t^k(x_{t-1},\\xi_t) =\n",
    "  \\begin{array}[t]{rl}\n",
    "  \\min\\limits_{x_t} & |x_t| + \\beta \\cdot \\mathfrak{Q}_{t+1}^k(x_t) \\\\\n",
    "  \\text{s.t.}       & x_t = x_{t-1} + c_t + \\xi_t \\\\\n",
    "                    & c_t \\in \\{\\pm1\\}\n",
    "  \\end{array}\n",
    "$$"
   ]
  },
  {
   "cell_type": "markdown",
   "metadata": {},
   "source": [
    "## Data \n",
    "\n",
    "### The discount factor $\\beta$\n",
    "\n",
    "We take a relatively \"small\" decay, $\\beta = 0.9$."
   ]
  },
  {
   "cell_type": "code",
   "execution_count": null,
   "metadata": {},
   "outputs": [],
   "source": [
    "discount = 0.9;"
   ]
  },
  {
   "cell_type": "markdown",
   "metadata": {},
   "source": [
    "### The noise $\\xi_t$\n",
    "\n",
    "Is identically distributed (\"periodic system\"), and **symmetric** (important for the analytic solution)."
   ]
  },
  {
   "cell_type": "code",
   "execution_count": null,
   "metadata": {},
   "outputs": [],
   "source": [
    "srand(11111)\n",
    "A_noise   = 0.4\n",
    "num_noise = 5\n",
    "noise = randn(num_noise)\n",
    "noise = A_noise * [noise; -noise];"
   ]
  },
  {
   "cell_type": "markdown",
   "metadata": {},
   "source": [
    "# Analytic solution by symmetry"
   ]
  },
  {
   "cell_type": "markdown",
   "metadata": {},
   "source": [
    "## Calculations for a 61-point discretization"
   ]
  },
  {
   "cell_type": "code",
   "execution_count": null,
   "metadata": {},
   "outputs": [],
   "source": [
    "ts = -3:0.1:3;"
   ]
  },
  {
   "cell_type": "code",
   "execution_count": null,
   "metadata": {},
   "outputs": [],
   "source": [
    "Qt3 = Vector{Float64}[]\n",
    "for t = 1:7\n",
    "    v = [Q2_bar(ti, 8, noise, discount, t) for ti in ts]\n",
    "    push!(Qt3, v)\n",
    "end"
   ]
  },
  {
   "cell_type": "code",
   "execution_count": null,
   "metadata": {},
   "outputs": [],
   "source": [
    "fig, (ax1,ax2) = PyPlot.subplots(ncols=2, figsize=(10,4))\n",
    "for t = 1:7\n",
    "    ax1[:plot](ts, Qt3[t], label=\"$t\")\n",
    "    ax2[:plot](ts, Qt3[t]*discount^t, label=\"$t\")\n",
    "end\n",
    "ax1[:set_title](\"Future cost (value at current time)\")\n",
    "ax2[:set_title](\"Future cost (in 1st stage values)\")\n",
    "ax2[:legend](title=L\"Stage $t$\", bbox_to_anchor=(1,0.5), loc=\"center left\");"
   ]
  },
  {
   "cell_type": "markdown",
   "metadata": {},
   "source": [
    "The future cost \"at current time\" can also be interpreted as the future cost at the first stage considering a time horizon of $9-t$ stages.\n",
    "So, for example, the line corresponding to \"stage 3\" is also the future cost function at the first stage of a 6-stage problem.\n",
    "\n",
    "The limit of these curves can be taken as one approximation for the \"infinite horizon problem\"."
   ]
  },
  {
   "cell_type": "markdown",
   "metadata": {},
   "source": [
    "### Derivatives and Lip constant"
   ]
  },
  {
   "cell_type": "code",
   "execution_count": null,
   "metadata": {},
   "outputs": [],
   "source": [
    "fig, (ax1,ax2) = PyPlot.subplots(ncols=2, figsize=(10,4))\n",
    "for t = 1:7\n",
    "    tmp = Qt3[t]\n",
    "    deriv = (tmp[3:end]-tmp[1:end-2])/0.2\n",
    "    ax1[:plot](ts[2:end-1], deriv, label=\"$t\")\n",
    "    ax2[:plot](ts[2:end-1], deriv*discount^t, label=\"$t\")\n",
    "end\n",
    "ax1[:set_title](\"Derivative of future cost (value at current time)\")\n",
    "ax2[:set_title](\"Derivative of future cost (in 1st stage values)\")\n",
    "ax2[:legend](title=L\"Stage $t$\", bbox_to_anchor=(1,0.5), loc=\"center left\");"
   ]
  },
  {
   "cell_type": "code",
   "execution_count": null,
   "metadata": {},
   "outputs": [],
   "source": [
    "fig, (ax1,ax2) = PyPlot.subplots(ncols=2, figsize=(10,4))\n",
    "for t = 1:7\n",
    "    tmp = Qt3[t]\n",
    "    zoomts = ts[21:41]\n",
    "    zoomderiv = (tmp[22:42]-tmp[20:40])/0.2\n",
    "    ax1[:plot](zoomts, zoomderiv, label=\"$t\")\n",
    "    ax2[:plot](zoomts, zoomderiv*discount^t, label=\"$t\")\n",
    "end\n",
    "ax1[:set_title](\"Derivative of future cost (value at current time)\")\n",
    "ax2[:set_title](\"Derivative of future cost (in 1st stage values)\")\n",
    "ax2[:legend](title=L\"Stage $t$\", bbox_to_anchor=(1,0.5), loc=\"center left\");"
   ]
  },
  {
   "cell_type": "markdown",
   "metadata": {},
   "source": [
    "### Cost-to-go and Average cost-to-go"
   ]
  },
  {
   "cell_type": "code",
   "execution_count": null,
   "metadata": {},
   "outputs": [],
   "source": [
    "fig, (ax1,ax2) = PyPlot.subplots(ncols=2, figsize=(10,4), sharey=true)\n",
    "for t = 1:7\n",
    "    ctg = [solve_bin_sym(ti, 8, noise, discount, t) for ti in ts]\n",
    "    ax1[:plot](ts, ctg*discount^(t-1), label=\"$t\")\n",
    "    ax2[:plot](ts, Qt3[t]*discount^t, label=\"$t\")\n",
    "end\n",
    "ax1[:set_title](\"Cost-to-go\")\n",
    "ax2[:set_title](L\"Future cost $\\overline{Q}_t(x_{t-1})$\")\n",
    "ax1[:set_xlabel](L\"$x_{t-1} + \\xi_t$\")\n",
    "ax2[:set_xlabel](L\"$x_{t-1}$\")\n",
    "ax2[:legend](title=L\"Stage $t$\", bbox_to_anchor=(1,0.5), loc=\"center left\");"
   ]
  },
  {
   "cell_type": "markdown",
   "metadata": {},
   "source": [
    "# Load models"
   ]
  },
  {
   "cell_type": "code",
   "execution_count": null,
   "metadata": {},
   "outputs": [],
   "source": [
    "names      = [\"SB\", \"ALD simple\", \"ALD parallel\", \"ALD parallel2\"]\n",
    "ramp_modes = [:None, :simple, :parallel, :parallel2]\n",
    "models     = [controlmodel(nstages=8, discount=discount, ramp_mode=r, noise=noise) for r in ramp_modes];"
   ]
  },
  {
   "cell_type": "code",
   "execution_count": null,
   "metadata": {},
   "outputs": [],
   "source": [
    "for (model,name) in zip(models,names)\n",
    "    base = joinpath(\"cuts\", name)\n",
    "    SDDP.loadcuts!(model, base*\"_benders.cuts\")\n",
    "    SLDP.load_aldcuts!(model, base*\"_ald.cuts\")\n",
    "    \n",
    "    SLDP.readlog!(model, joinpath(\"logs\", name)*\".log\")\n",
    "end"
   ]
  },
  {
   "cell_type": "markdown",
   "metadata": {},
   "source": [
    "# Results per cut strategy"
   ]
  },
  {
   "cell_type": "markdown",
   "metadata": {},
   "source": [
    "## Baseline strategy: only Strenghtened Benders cuts\n",
    "\n",
    "This corresponds to $\\rho = 0$, for all stages and iterations."
   ]
  },
  {
   "cell_type": "code",
   "execution_count": null,
   "metadata": {},
   "outputs": [],
   "source": [
    "sb_model = models[1];"
   ]
  },
  {
   "cell_type": "code",
   "execution_count": null,
   "metadata": {},
   "outputs": [],
   "source": [
    "ts = -3:0.02:3\n",
    "for t = 1:7\n",
    "    PyPlot.plot(ts, SLDP.Qfrak(sb_model,t,1,ts), label=\"$t\")\n",
    "end\n",
    "PyPlot.legend(title=L\"Stage $t$\")\n",
    "PyPlot.title(L\"Future cost functions $\\mathfrak{Q}_t$\")\n",
    "PyPlot.grid();"
   ]
  },
  {
   "cell_type": "code",
   "execution_count": null,
   "metadata": {},
   "outputs": [],
   "source": [
    "ts = -3:0.1:3\n",
    "for t = 1:7\n",
    "    QTrue = Qt3[t]*discount^t\n",
    "    graph_fcfs(sb_model,t, ts, QTrue, filename=joinpath(\"figs\", names[1]*\"_stage$t.pdf\"))\n",
    "end"
   ]
  },
  {
   "cell_type": "markdown",
   "metadata": {},
   "source": [
    "## Lipschitz estimate\n",
    "\n",
    "We estimate $\\displaystyle Lip_t = \\beta^{t-1} + \\beta^t + \\ldots + \\beta^{8-1} = \\beta^{t-1}(1 + \\ldots + \\beta^{8-t}) = \\frac{1 - \\beta^{8+1-t}}{1 - \\beta}\\beta^{t-1}$."
   ]
  },
  {
   "cell_type": "markdown",
   "metadata": {},
   "source": [
    "## First strategy: homothetic ALD\n",
    "\n",
    "At iteration $n$ and stage $t$, we set\n",
    "$$\\rho_t = \\min\\left(1, \\max\\left(0, \\frac{n-15}{15}\\right)\\right) \\cdot Lip_t. $$\n",
    "\n",
    "That is:\n",
    "\n",
    "- in the first 15 stages, $\\rho_t = 0$;\n",
    "- then increase $\\rho_t$ until it reaches $Lip_t$ in 15 stages;\n",
    "- and keep at $Lip_t$ until the end."
   ]
  },
  {
   "cell_type": "code",
   "execution_count": null,
   "metadata": {},
   "outputs": [],
   "source": [
    "ald_simple_model = models[2];"
   ]
  },
  {
   "cell_type": "code",
   "execution_count": null,
   "metadata": {},
   "outputs": [],
   "source": [
    "ts = -3:0.02:3\n",
    "for t = 1:7\n",
    "    PyPlot.plot(ts, SLDP.Qfrak(ald_simple_model,t,1,ts), label=\"$t\")\n",
    "end\n",
    "PyPlot.legend(title=\"Stage\")\n",
    "PyPlot.title(\"Future cost functions\")\n",
    "PyPlot.grid();"
   ]
  },
  {
   "cell_type": "code",
   "execution_count": null,
   "metadata": {},
   "outputs": [],
   "source": [
    "ts = -3:0.1:3\n",
    "for t = 1:7\n",
    "    QTrue = Qt3[t]*discount^t\n",
    "    graph_fcfs(ald_simple_model,t, ts, QTrue, filename=joinpath(\"figs\",names[2]*\"_stage$t.pdf\"))\n",
    "end"
   ]
  },
  {
   "cell_type": "markdown",
   "metadata": {},
   "source": [
    "### Comparing 100 and 200 iterations\n",
    "\n",
    "That is, (16 SB + 84 ALD) _vs_ (16 SB + 184 ALD).\n",
    "\n",
    "Remember that for every ALD cut we also add the corresponding SB cut,\n",
    "so in effect there are $16 + 2\\cdot84 = 184$ and $16 + 2\\cdot184 = 384$ cuts."
   ]
  },
  {
   "cell_type": "code",
   "execution_count": null,
   "metadata": {},
   "outputs": [],
   "source": [
    "ts = -3:0.02:3\n",
    "us = -3:0.1:3\n",
    "fig, axs = PyPlot.subplots(ncols=2,nrows=4, sharey=true, figsize=(12,14))\n",
    "for t = 1:7\n",
    "    curax = axs[div(t+1,2),rem(t-1,2)+1]\n",
    "    f1 = SLDP.Qfrak(models[2],t,1,ts)\n",
    "    f2 = SLDP.Qfrak(models[2],t,1,ts, ncuts=100,nald=84)\n",
    "    curax[:plot](ts, f1, label=\"all cuts\")\n",
    "    curax[:plot](ts, f2, label=\"16 SB + 84 ALD cuts\")\n",
    "    curax[:plot](us, Qt3[t]*discount^t, label=\"True\")\n",
    "    curax[:legend]()\n",
    "    curax[:set_title](\"Functions at stage $t\")\n",
    "    curax[:grid]()\n",
    "end"
   ]
  },
  {
   "cell_type": "code",
   "execution_count": null,
   "metadata": {},
   "outputs": [],
   "source": [
    "ts = -3:0.02:3\n",
    "fig, axs = PyPlot.subplots(ncols=2,nrows=7, sharey=true, figsize=(12,23))\n",
    "fig[:suptitle](\"Difference between 100 and 200 iterations\")\n",
    "for t = 1:7\n",
    "    ax1 = axs[t,1]\n",
    "    ax2 = axs[t,2]\n",
    "    f1 = SLDP.Qfrak(models[2],t,1,ts)\n",
    "    f2 = SLDP.Qfrak(models[2],t,1,ts, ncuts=100,nald=84)\n",
    "    ax1[:plot](ts, f1 - f2)\n",
    "    ax1[:set_title](\"Stage $t, in present values\")\n",
    "    ax1[:grid]()\n",
    "    ax2[:plot](ts, (f1 - f2)/discount^(t-1))\n",
    "    ax2[:set_title](\"Stage $t, in current values\")\n",
    "    ax2[:grid]()\n",
    "end"
   ]
  },
  {
   "cell_type": "markdown",
   "metadata": {},
   "source": [
    "## Second strategy: parallel\n",
    "\n",
    "At iteration $n$ and stage $t$, we set\n",
    "$$\\rho_t = \\min\\left(Lip_t, \\max\\left(0, \\frac{n-15}{15}\\right)\\right). $$\n",
    "\n",
    "That is:\n",
    "\n",
    "- in the first 15 stages, $\\rho_t = 0$;\n",
    "- then increase with equal steps at all stages, stopping at $Lip_t$; (so that different stages \"saturate\" at different times)\n",
    "- and keep at $Lip_t$ until the end."
   ]
  },
  {
   "cell_type": "code",
   "execution_count": null,
   "metadata": {},
   "outputs": [],
   "source": [
    "ald_par_model = models[3];"
   ]
  },
  {
   "cell_type": "code",
   "execution_count": null,
   "metadata": {},
   "outputs": [],
   "source": [
    "ts = -3:0.02:3\n",
    "for t = 1:7\n",
    "    PyPlot.plot(ts, SLDP.Qfrak(ald_par_model,t,1,ts), label=\"$t\")\n",
    "end\n",
    "PyPlot.legend(title=\"Stage\")\n",
    "PyPlot.title(\"Future cost functions\")\n",
    "PyPlot.grid();"
   ]
  },
  {
   "cell_type": "code",
   "execution_count": null,
   "metadata": {},
   "outputs": [],
   "source": [
    "ts = -3:0.1:3\n",
    "for t = 1:7\n",
    "    QTrue = Qt3[t]*discount^t\n",
    "    graph_fcfs(ald_par_model,t, ts, QTrue, filename=joinpath(\"figs\", names[3]*\"_stage$t.pdf\"))\n",
    "end"
   ]
  },
  {
   "cell_type": "markdown",
   "metadata": {},
   "source": [
    "### Creating cuts\n",
    "\n",
    "We can observe that $\\tilde{Q}_6$ is still a close approximation to $\\overline{Q}_6$,\n",
    "but $\\mathfrak{Q}_6$ is a very poor approximation outside of $[-1,1]$.\n",
    "One could conjecture that the \"gap\" that (progressively) opens between $\\overline{Q}_t$ and $\\tilde{Q}_t$ in previous stages\n",
    "comes from these gaps outside of $[-1,1]$.\n",
    "\n",
    "Let's see if closing these gaps manually yields better approximations."
   ]
  },
  {
   "cell_type": "code",
   "execution_count": null,
   "metadata": {},
   "outputs": [],
   "source": [
    "t = 7\n",
    "stage6 = SDDP.getstage(ald_par_model,t-1)\n",
    "stage6.state\n",
    "stage7 = SDDP.getstage(ald_par_model,t)\n",
    "rho7 = stage7.ext[:rhos](100, stage7.ext[:Lip])"
   ]
  },
  {
   "cell_type": "code",
   "execution_count": null,
   "metadata": {},
   "outputs": [],
   "source": [
    "SLDP.make_cut(ald_par_model,7,[-2.], rho7)"
   ]
  },
  {
   "cell_type": "code",
   "execution_count": null,
   "metadata": {},
   "outputs": [],
   "source": [
    "SLDP.make_cut(ald_par_model,7,[ 2.], rho7)"
   ]
  },
  {
   "cell_type": "code",
   "execution_count": null,
   "metadata": {},
   "outputs": [],
   "source": [
    "for x in [-1.5,1.5]\n",
    "    SLDP.make_cut(ald_par_model,7,[x],0.1)\n",
    "end"
   ]
  },
  {
   "cell_type": "code",
   "execution_count": null,
   "metadata": {},
   "outputs": [],
   "source": [
    "for x in [-1.25,1.25]\n",
    "    SLDP.make_cut(ald_par_model,7,[x],0.4)\n",
    "end"
   ]
  },
  {
   "cell_type": "code",
   "execution_count": null,
   "metadata": {},
   "outputs": [],
   "source": [
    "graph_fcfs(ald_par_model, 6, ts, Qt3[6]*discount^6)"
   ]
  },
  {
   "cell_type": "markdown",
   "metadata": {},
   "source": [
    "#### Impact on previous stage cost function"
   ]
  },
  {
   "cell_type": "code",
   "execution_count": null,
   "metadata": {},
   "outputs": [],
   "source": [
    "ts = -3:0.1:3\n",
    "graph_fcfs(ald_par_model, 5, ts, Qt3[5]*discount^5)"
   ]
  },
  {
   "cell_type": "markdown",
   "metadata": {},
   "source": [
    "## Third strategy: double of parallel\n",
    "\n",
    "At iteration $n$ and stage $t$, we set\n",
    "$$\\rho_t = \\min\\left(2 Lip_t, \\max\\left(0, \\frac{n-15}{15}\\right)\\right). $$\n",
    "\n",
    "That is:\n",
    "\n",
    "- in the first 15 stages, $\\rho_t = 0$;\n",
    "- then increase with equal steps at all stages, stopping at $2 Lip_t$; (so that different stages \"saturate\" at different times)\n",
    "- and keep at $2 Lip_t$ until the end."
   ]
  },
  {
   "cell_type": "code",
   "execution_count": null,
   "metadata": {},
   "outputs": [],
   "source": [
    "ald_par2_model = models[4];"
   ]
  },
  {
   "cell_type": "code",
   "execution_count": null,
   "metadata": {},
   "outputs": [],
   "source": [
    "ts = -3:0.02:3\n",
    "for t = 1:7\n",
    "    PyPlot.plot(ts, SLDP.Qfrak(ald_par2_model,t,1,ts), label=\"$t\")\n",
    "end\n",
    "PyPlot.legend(title=\"Stage\")\n",
    "PyPlot.title(\"Future cost functions\")\n",
    "PyPlot.grid();"
   ]
  },
  {
   "cell_type": "code",
   "execution_count": null,
   "metadata": {},
   "outputs": [],
   "source": [
    "ts = -3:0.1:3\n",
    "for t = 1:7\n",
    "    QTrue = Qt3[t]*discount^t\n",
    "    graph_fcfs(ald_par2_model,t, ts, QTrue, filename=joinpath(\"figs\", names[4]*\"_stage$t.pdf\"))\n",
    "end"
   ]
  },
  {
   "cell_type": "markdown",
   "metadata": {},
   "source": [
    "# Comparing models"
   ]
  },
  {
   "cell_type": "markdown",
   "metadata": {},
   "source": [
    "## $\\mathfrak{Q}_1$"
   ]
  },
  {
   "cell_type": "code",
   "execution_count": null,
   "metadata": {},
   "outputs": [],
   "source": [
    "t = 1\n",
    "compare_qfrak(models, t, ts, Qt3[t]*discount^t)"
   ]
  },
  {
   "cell_type": "markdown",
   "metadata": {},
   "source": [
    "## $\\mathfrak{Q}_3$"
   ]
  },
  {
   "cell_type": "code",
   "execution_count": null,
   "metadata": {},
   "outputs": [],
   "source": [
    "t = 3\n",
    "compare_qfrak(models, t, ts, Qt3[t]*discount^t)"
   ]
  },
  {
   "cell_type": "markdown",
   "metadata": {},
   "source": [
    "## Lower bound evolution"
   ]
  },
  {
   "cell_type": "code",
   "execution_count": null,
   "metadata": {},
   "outputs": [],
   "source": [
    "fig, (ax1,ax2) = PyPlot.subplots(ncols=2, figsize=(12,4))\n",
    "PyPlot.suptitle(\"Lower bound\")\n",
    "\n",
    "for (i,m) in enumerate(models)\n",
    "    mylog = m.log\n",
    "    ts = (x -> x.timecuts).(mylog)\n",
    "    vs = (x -> x.bound).(mylog)\n",
    "    ax1[:plot](ts - mylog[1].timecuts, vs, label=\"$i\")\n",
    "    ax2[:semilogx](ts - mylog[1].timecuts, vs, label=\"$i\")\n",
    "end\n",
    "for ax in (ax1,ax2)\n",
    "    ax[:set_xlabel](\"Time\")\n",
    "    ax[:legend](names)\n",
    "end"
   ]
  },
  {
   "cell_type": "code",
   "execution_count": null,
   "metadata": {},
   "outputs": [],
   "source": [
    "fig, (ax1,ax2) = PyPlot.subplots(ncols=2, figsize=(12,4))\n",
    "PyPlot.suptitle(\"Lower bound\")\n",
    "\n",
    "for (i,m) in enumerate(models)\n",
    "    mylog = m.log\n",
    "    ts = (x -> x.timecuts).(mylog)\n",
    "    vs = (x -> x.bound).(mylog)\n",
    "    ax1[:plot](vs, label=\"$i\")\n",
    "    ax2[:semilogx](vs, label=\"$i\")\n",
    "end\n",
    "for ax in (ax1,ax2)\n",
    "    ax[:set_xlabel](\"Iteration\")\n",
    "    ax[:legend](names)\n",
    "end"
   ]
  },
  {
   "cell_type": "markdown",
   "metadata": {},
   "source": [
    "## Timing"
   ]
  },
  {
   "cell_type": "code",
   "execution_count": null,
   "metadata": {},
   "outputs": [],
   "source": [
    "fig, (ax1,ax2) = PyPlot.subplots(ncols=2, figsize=(12,4))\n",
    "PyPlot.suptitle(\"Time per iteration\")\n",
    "\n",
    "for (i,m) in enumerate(models)\n",
    "    mylog = m.log\n",
    "    ts = (x -> x.timecuts).(mylog)\n",
    "    vs = (x -> x.bound).(mylog)\n",
    "    ax1[:plot](diff(ts), label=\"$i\")\n",
    "    ax2[:loglog](diff(ts), label=\"$i\")\n",
    "end\n",
    "for ax in (ax1,ax2)\n",
    "    ax[:set_xlabel](\"Iteration\")\n",
    "    ax[:legend](names)\n",
    "end"
   ]
  },
  {
   "cell_type": "code",
   "execution_count": null,
   "metadata": {},
   "outputs": [],
   "source": [
    "for win in [5,10,20]\n",
    "    fig, (ax1,ax2) = PyPlot.subplots(ncols=2, figsize=(12,4))\n",
    "    PyPlot.suptitle(\"Time per iteration (smoothed by a window of size $win)\")\n",
    "\n",
    "    for (i,m) in enumerate(models)\n",
    "        mylog = m.log\n",
    "        ts = (x -> x.timecuts).(mylog)\n",
    "        dts = (ts[1+win:end] - ts[1:end-win])/win\n",
    "        ax1[:plot](dts, label=\"$i\")\n",
    "        ax2[:loglog](dts, label=\"$i\")\n",
    "    end\n",
    "    for ax in (ax1,ax2)\n",
    "        ax[:set_xlabel](\"Iteration\")\n",
    "        ax[:legend](names)\n",
    "    end\n",
    "end"
   ]
  }
 ],
 "metadata": {
  "kernelspec": {
   "display_name": "Julia 0.6.4",
   "language": "julia",
   "name": "julia-0.6"
  },
  "language_info": {
   "file_extension": ".jl",
   "mimetype": "application/julia",
   "name": "julia"
  }
 },
 "nbformat": 4,
 "nbformat_minor": 2
}
